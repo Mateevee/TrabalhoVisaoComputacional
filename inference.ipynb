{
 "cells": [
  {
   "cell_type": "code",
   "execution_count": 6,
   "metadata": {},
   "outputs": [
    {
     "name": "stdout",
     "output_type": "stream",
     "text": [
      "\n",
      "\n",
      "0: 640x640 1 1, 1 2, 8.5ms\n",
      "0: 640x640 1 1, 1 2, 8.5ms\n",
      "Speed: 2.1ms preprocess, 8.5ms inference, 1.6ms postprocess per image at shape (1, 3, 640, 640)\n",
      "Speed: 2.1ms preprocess, 8.5ms inference, 1.6ms postprocess per image at shape (1, 3, 640, 640)\n",
      "ultralytics.engine.results.Boxes object with attributes:\n",
      "\n",
      "cls: tensor([2., 1.], device='cuda:0')\n",
      "conf: tensor([0.4797, 0.4315], device='cuda:0')\n",
      "data: tensor([[252.2875, 120.8505, 383.6866, 395.7929,   0.4797,   2.0000],\n",
      "        [254.0974, 118.8645, 381.2373, 394.8830,   0.4315,   1.0000]], device='cuda:0')\n",
      "id: None\n",
      "is_track: False\n",
      "orig_shape: (640, 640)\n",
      "shape: torch.Size([2, 6])\n",
      "xywh: tensor([[317.9871, 258.3217, 131.3991, 274.9424],\n",
      "        [317.6674, 256.8738, 127.1399, 276.0184]], device='cuda:0')\n",
      "xywhn: tensor([[0.4969, 0.4036, 0.2053, 0.4296],\n",
      "        [0.4964, 0.4014, 0.1987, 0.4313]], device='cuda:0')\n",
      "xyxy: tensor([[252.2875, 120.8505, 383.6866, 395.7929],\n",
      "        [254.0974, 118.8645, 381.2373, 394.8830]], device='cuda:0')\n",
      "xyxyn: tensor([[0.3942, 0.1888, 0.5995, 0.6184],\n",
      "        [0.3970, 0.1857, 0.5957, 0.6170]], device='cuda:0') []\n"
     ]
    }
   ],
   "source": [
    "from ultralytics import YOLO\n",
    "import os\n",
    "os.chdir(\"/home/mateevee/TrabalhoVisaoComputacional/Dados\")\n",
    "model = YOLO(\"/home/mateevee/TrabalhoVisaoComputacional/Dados/runs/detect/train/weights/last.pt\")\n",
    "\n",
    "results = model(['/home/mateevee/TrabalhoVisaoComputacional/cacau_bom_e_ruim.png'], conf=0.4)\n",
    "\n",
    "def filtrar_lista(indices, elementos):\n",
    "    return [elementos[i] for i in indices if i < len(elementos)]\n",
    "\n",
    "for result in results:\n",
    "    boxes = result.boxes\n",
    "    masks = result.masks\n",
    "    keypoints = result.keypoints\n",
    "    probs = result.probs\n",
    "    result.names[0] = \"Doente 1\"\n",
    "    result.names[1] = \"Doente 2\"\n",
    "    result.names[2] = \"saudavel\"\n",
    "    \n",
    "    matrix_confianca = boxes.conf\n",
    "    indices_alvo = []\n",
    "    for i,x in enumerate(matrix_confianca):\n",
    "        if(float(x)> 0.7):\n",
    "            indices_alvo.append(i)\n",
    "    print(boxes, indices_alvo)\n",
    "    result.save(filename='/home/mateevee/TrabalhoVisaoComputacional/result12345.jpg')"
   ]
  }
 ],
 "metadata": {
  "kernelspec": {
   "display_name": "Python 3",
   "language": "python",
   "name": "python3"
  },
  "language_info": {
   "codemirror_mode": {
    "name": "ipython",
    "version": 3
   },
   "file_extension": ".py",
   "mimetype": "text/x-python",
   "name": "python",
   "nbconvert_exporter": "python",
   "pygments_lexer": "ipython3",
   "version": "3.8.10"
  }
 },
 "nbformat": 4,
 "nbformat_minor": 2
}
